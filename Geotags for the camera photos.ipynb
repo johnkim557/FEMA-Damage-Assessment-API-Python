{
 "cells": [
  {
   "cell_type": "code",
   "execution_count": 1,
   "metadata": {},
   "outputs": [
    {
     "name": "stdout",
     "output_type": "stream",
     "text": [
      "Requirement already satisfied: pillow in /Users/valamani/anaconda3/envs/dsi/lib/python3.7/site-packages (5.4.1)\n",
      "Note: you may need to restart the kernel to use updated packages.\n"
     ]
    }
   ],
   "source": [
    "pip install pillow"
   ]
  },
  {
   "cell_type": "code",
   "execution_count": 3,
   "metadata": {},
   "outputs": [],
   "source": [
    "from __future__ import print_function\n",
    "from PIL import Image\n",
    "from PIL.ExifTags import TAGS, GPSTAGS\n"
   ]
  },
  {
   "cell_type": "code",
   "execution_count": 4,
   "metadata": {},
   "outputs": [],
   "source": [
    "def get_exif(filename):\n",
    "    image = Image.open(filename)\n",
    "    image.verify()    #Image verify won't output anything if the image is in the correct format\n",
    "    exif = image._getexif()\n",
    "    if exif is not None:\n",
    "         for key, value in exif.items():\n",
    "                name = TAGS.get(key, key)\n",
    "                exif[name] = exif.pop(key)\n",
    "#          if 'GPSInfo' in exif:\n",
    "#              for key in exif['GPSInfo'].keys():\n",
    "#                     name = GPSTAGS.get(key,key)\n",
    "#                     exif['GPSInfo'][name] = exif['GPSInfo'].pop(key)\n",
    "\n",
    "    return exif"
   ]
  },
  {
   "cell_type": "code",
   "execution_count": 24,
   "metadata": {
    "scrolled": true
   },
   "outputs": [
    {
     "data": {
      "text/plain": [
       "{40961: 1,\n",
       " 40962: 4032,\n",
       " 40963: 3024,\n",
       " 41990: 0,\n",
       " 'Orientation': 6,\n",
       " 'YCbCrPositioning': 1,\n",
       " 'ResolutionUnit': 2,\n",
       " 'ExifOffset': 102,\n",
       " 'XResolution': (72, 1),\n",
       " 'ComponentsConfiguration': b'\\x01\\x02\\x03\\x00',\n",
       " 'FlashPixVersion': b'0100',\n",
       " 'YResolution': (72, 1),\n",
       " 'ExifVersion': b'0221'}"
      ]
     },
     "execution_count": 24,
     "metadata": {},
     "output_type": "execute_result"
    }
   ],
   "source": [
    "get_exif('test.jpeg')"
   ]
  },
  {
   "cell_type": "code",
   "execution_count": 18,
   "metadata": {},
   "outputs": [],
   "source": [
    "def get_geotagging(exif):\n",
    "    if not exif:\n",
    "        raise ValueError(\"No EXIF metadata found\")\n",
    "\n",
    "    geotagging = {}\n",
    "    for (idx, tag) in TAGS.items():\n",
    "    \n",
    "         if tag == 'GPSInfo':\n",
    "                print(idx)\n",
    "                print(tag)\n",
    "                try:\n",
    "                    print(exif.get(\"GPSInfo\").values())\n",
    "                except:\n",
    "                    print('no geotagg available')\n",
    "#             if idx not in exif:\n",
    "#                 raise ValueError(\"No EXIF geotagging found\")\n",
    "# \n",
    "#                 for (key, val) in GPSTAGS.items():\n",
    "#                     if key in exif[idx]:\n",
    "#                         geotagging[val] = exif[idx][key]\n",
    "\n",
    "    return geotagging\n"
   ]
  },
  {
   "cell_type": "code",
   "execution_count": null,
   "metadata": {},
   "outputs": [],
   "source": []
  },
  {
   "cell_type": "code",
   "execution_count": 21,
   "metadata": {},
   "outputs": [],
   "source": [
    "exif = get_exif('test.jpeg')"
   ]
  },
  {
   "cell_type": "code",
   "execution_count": 22,
   "metadata": {},
   "outputs": [
    {
     "name": "stdout",
     "output_type": "stream",
     "text": [
      "34853\n",
      "GPSInfo\n",
      "no geotagg available\n"
     ]
    },
    {
     "data": {
      "text/plain": [
       "{}"
      ]
     },
     "execution_count": 22,
     "metadata": {},
     "output_type": "execute_result"
    }
   ],
   "source": [
    "get_geotagging(exif)"
   ]
  },
  {
   "cell_type": "code",
   "execution_count": 23,
   "metadata": {},
   "outputs": [
    {
     "data": {
      "text/plain": [
       "dict_items([(0, 'GPSVersionID'), (1, 'GPSLatitudeRef'), (2, 'GPSLatitude'), (3, 'GPSLongitudeRef'), (4, 'GPSLongitude'), (5, 'GPSAltitudeRef'), (6, 'GPSAltitude'), (7, 'GPSTimeStamp'), (8, 'GPSSatellites'), (9, 'GPSStatus'), (10, 'GPSMeasureMode'), (11, 'GPSDOP'), (12, 'GPSSpeedRef'), (13, 'GPSSpeed'), (14, 'GPSTrackRef'), (15, 'GPSTrack'), (16, 'GPSImgDirectionRef'), (17, 'GPSImgDirection'), (18, 'GPSMapDatum'), (19, 'GPSDestLatitudeRef'), (20, 'GPSDestLatitude'), (21, 'GPSDestLongitudeRef'), (22, 'GPSDestLongitude'), (23, 'GPSDestBearingRef'), (24, 'GPSDestBearing'), (25, 'GPSDestDistanceRef'), (26, 'GPSDestDistance'), (27, 'GPSProcessingMethod'), (28, 'GPSAreaInformation'), (29, 'GPSDateStamp'), (30, 'GPSDifferential'), (31, 'GPSHPositioningError')])"
      ]
     },
     "execution_count": 23,
     "metadata": {},
     "output_type": "execute_result"
    }
   ],
   "source": [
    "GPSTAGS.items()"
   ]
  }
 ],
 "metadata": {
  "kernelspec": {
   "display_name": "Python 3",
   "language": "python",
   "name": "python3"
  },
  "language_info": {
   "codemirror_mode": {
    "name": "ipython",
    "version": 3
   },
   "file_extension": ".py",
   "mimetype": "text/x-python",
   "name": "python",
   "nbconvert_exporter": "python",
   "pygments_lexer": "ipython3",
   "version": "3.7.3"
  }
 },
 "nbformat": 4,
 "nbformat_minor": 2
}
